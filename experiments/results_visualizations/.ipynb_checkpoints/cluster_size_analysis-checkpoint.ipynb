{
 "cells": [
  {
   "cell_type": "code",
   "execution_count": 1,
   "metadata": {},
   "outputs": [],
   "source": [
    "%load_ext autoreload\n",
    "%autoreload 2\n",
    "%reload_ext autoreload"
   ]
  },
  {
   "cell_type": "code",
   "execution_count": 2,
   "metadata": {},
   "outputs": [],
   "source": [
    "import warnings\n",
    "warnings.filterwarnings(\"ignore\")\n",
    "\n",
    "import glob\n",
    "import shutil\n",
    "import itertools\n",
    "import os\n",
    "import sys\n",
    "import importlib  \n",
    "\n",
    "import pickle\n",
    "\n",
    "import pandas as pd\n",
    "import numpy as np\n",
    "\n",
    "import seaborn as sns\n",
    "import matplotlib.pyplot as plt\n",
    "\n",
    "import random\n",
    "\n",
    "from sklearn.utils import resample, shuffle\n",
    "\n",
    "import six\n",
    "import sys\n",
    "sys.modules['sklearn.externals.six'] = six\n",
    "\n",
    "import sklearn.neighbors._base\n",
    "sys.modules['sklearn.neighbors.base'] = sklearn.neighbors._base\n",
    "\n",
    "from sklearn.utils import _safe_indexing\n",
    "sys.modules['sklearn.utils.safe_indexing'] = _safe_indexing\n",
    "\n",
    "from pairs_trading_package.clustering import *\n",
    "\n",
    "import pairs_trading_package as lfl\n",
    "from pairs_trading_package.utils import flatten, postfix_keys_to_dict, get_current_time_hash, get_random_hash\n"
   ]
  },
  {
   "cell_type": "code",
   "execution_count": 3,
   "metadata": {},
   "outputs": [
    {
     "name": "stdout",
     "output_type": "stream",
     "text": [
      "Total of 116 tickers\n",
      "Total of 116 tickers after removing tickers with Nan values\n"
     ]
    }
   ],
   "source": [
    "\n",
    "from pairs_trading_package.pairs_trading_backtester import (\n",
    "    SeriesAnalyser, DataProcessor\n",
    ")\n",
    "\n",
    "data_processor = DataProcessor()\n",
    "\n",
    "# load etf metadata\n",
    "etfs, etfs_unique, tickers = data_processor.read_ticker_excel(path='../data_folder/original/commodity_ETFs_long_updated.xlsx')\n",
    "\n",
    "# intraday\n",
    "df_prices = pd.read_pickle('../data_folder/original/commodity_ETFs_from_2014_complete.pickle')\n",
    "\n",
    "SPLIT_IDX = 2\n",
    "\n",
    "splits = [ \n",
    "    [('01-01-2012', '31-12-2014'), ('01-01-2015', '31-12-2015'), '2014-01-01'],\n",
    "    [('01-01-2013', '31-12-2015'), ('01-01-2016', '31-12-2016'), '2015-01-01'],\n",
    "    [('01-01-2014', '31-12-2016'), ('01-01-2017', '31-12-2017'), '2016-01-01'] \n",
    "]\n",
    "\n",
    "# split data in training and test\n",
    "df_prices_train, df_prices_test = data_processor.split_data(df_prices, splits[SPLIT_IDX][0], splits[SPLIT_IDX][1], remove_nan=True)\n",
    "\n",
    "df_train_returns = data_processor.get_return_series(df_prices_train)#.asfreq('B').dropna()\n",
    "df_test_returns = data_processor.get_return_series(df_prices_test)#.asfreq('B').dropna()\n"
   ]
  },
  {
   "cell_type": "code",
   "execution_count": 4,
   "metadata": {},
   "outputs": [],
   "source": [
    "from sklearn.preprocessing import StandardScaler, MinMaxScaler, OrdinalEncoder\n",
    "\n",
    "# Convert string categorical set describing asset sectors/segments to integer.\n",
    "\n",
    "enc = OrdinalEncoder()\n",
    "\n",
    "sector_data_df = etfs_unique[etfs_unique['Ticker'].isin(df_train_returns.columns)]['Sector']\n",
    "\n",
    "enc.fit(sector_data_df.astype(str).values.reshape(-1, 1))\n",
    "\n",
    "sector_ground_truth = enc.transform(sector_data_df.astype(str).values.reshape(-1, 1)).reshape(-1)\n",
    "\n",
    "\n",
    "segment_data_df = etfs_unique[etfs_unique['Ticker'].isin(df_train_returns.columns)]['Segment']\n",
    "\n",
    "enc.fit(segment_data_df.astype(str).values.reshape(-1, 1))\n",
    "\n",
    "segment_ground_truth = enc.transform(segment_data_df.astype(str).values.reshape(-1, 1)).reshape(-1)"
   ]
  },
  {
   "cell_type": "code",
   "execution_count": 5,
   "metadata": {},
   "outputs": [],
   "source": [
    "assigned_labels_pca = []\n",
    "assigned_labels_ae = []"
   ]
  },
  {
   "cell_type": "code",
   "execution_count": 6,
   "metadata": {},
   "outputs": [
    {
     "name": "stdout",
     "output_type": "stream",
     "text": [
      "{'init': 'k-means++', 'n_clusters': 46, 'n_init': 20}\n",
      "Clusters discovered: 46\n",
      "Pairs to evaluate: 235\n",
      "{'init': 'k-means++', 'n_clusters': 30, 'n_init': 20}\n",
      "Clusters discovered: 30\n",
      "Pairs to evaluate: 319\n",
      "{'init': 'k-means++', 'n_clusters': 30, 'n_init': 20}\n",
      "Clusters discovered: 30\n",
      "Pairs to evaluate: 398\n",
      "{'init': 'k-means++', 'n_clusters': 30, 'n_init': 20}\n",
      "Clusters discovered: 30\n",
      "Pairs to evaluate: 374\n",
      "{'init': 'k-means++', 'n_clusters': 30, 'n_init': 20}\n",
      "Clusters discovered: 30\n",
      "Pairs to evaluate: 404\n",
      "{'init': 'k-means++', 'n_clusters': 30, 'n_init': 20}\n",
      "Clusters discovered: 30\n",
      "Pairs to evaluate: 423\n"
     ]
    }
   ],
   "source": [
    "from sklearn.metrics.cluster import adjusted_mutual_info_score, adjusted_rand_score\n",
    "from sklearn.decomposition import PCA\n",
    "\n",
    "kmeans_algo_pca_template = {'init':['k-means++'], 'n_clusters': [46], 'n_init': [20]}\n",
    "kmeans_algo_ae_template = {'init':['k-means++'], 'n_clusters': [30], 'n_init': [20]}\n",
    "\n",
    "\n",
    "# GET VALUES FOR PCA\n",
    "\n",
    "scaler = StandardScaler()\n",
    "\n",
    "scaled_data = scaler.fit_transform(df_train_returns)\n",
    "\n",
    "pca_instance = PCA(n_components=25)\n",
    "\n",
    "reduced_data = pca_instance.fit_transform(scaled_data)\n",
    "\n",
    "feature_df = pd.DataFrame(pca_instance.components_, columns=df_train_returns.columns).T\n",
    "\n",
    "km_clustered_series_all, km_clustered_series, km_counts, assigned_labels = series_analyser.apply_clustering_algo('kmeans', feature_df,\n",
    "                                                                                                        df_train_returns.columns, \n",
    "                                                                                                        permute_params(kmeans_algo_pca_template)[0])\n",
    "\n",
    "assigned_labels_pca.append(assigned_labels)\n",
    "\n",
    "# GET VALUES FOR AUTOENCODER\n",
    "\n",
    "for model_identifier in glob.glob('../experiment_3/ae_exhaust/covariance_matrix/embedding_sets/' + str(SPLIT_IDX) + '/*.csv'):\n",
    "\n",
    "    pre_train_clusterable_feature_df = pd.read_csv(model_identifier).iloc[:, 1:]\n",
    "\n",
    "    km_clustered_series_all, km_clustered_series, km_counts, _assigned_labels = series_analyser.apply_clustering_algo('kmeans', pre_train_clusterable_feature_df,\n",
    "                                                                                                            df_train_returns.columns, \n",
    "                                                                                                            permute_params(kmeans_algo_ae_template)[0])\n",
    "\n",
    "    assigned_labels_ae.append(_assigned_labels) \n"
   ]
  },
  {
   "cell_type": "code",
   "execution_count": 12,
   "metadata": {},
   "outputs": [],
   "source": [
    "from collections import Counter\n",
    "\n",
    "\n",
    "def get_metrics(labels, ignore_one_sample_cluster=True):\n",
    "    # K_s be the number of times state s was observed in the sample\n",
    "    ks_counts = np.asarray(Counter(labels).most_common()) \n",
    "    \n",
    "    if ignore_one_sample_cluster:\n",
    "        ks_counts = np.array([f for f in ks_counts if f[1] > 1])\n",
    "    \n",
    "    # m_k is the number of states s that are sampled exactly k times\n",
    "    m_k = lambda k : np.sum(ks_counts[:,1].astype(int) == k)\n",
    "    \n",
    "    return ks_counts[:,1], np.array([m_k(k) for k in ks_counts[:,1]])\n",
    "\n",
    "colors = ['b', 'r']\n",
    "k_list = [[], []]\n",
    "mk_list = [[], []]\n",
    "\n",
    "for al_id, al_list in enumerate([assigned_labels_ae, assigned_labels_pca]):\n",
    "    for assigned_labs in al_list:\n",
    "\n",
    "        series_assigned_labels = pd.Series(assigned_labs)\n",
    "\n",
    "        k, mk = get_metrics(series_assigned_labels)\n",
    "        \n",
    "        k_list[al_id].append(k)\n",
    "        mk_list[al_id].append(mk)\n"
   ]
  },
  {
   "cell_type": "code",
   "execution_count": 13,
   "metadata": {},
   "outputs": [
    {
     "data": {
      "text/plain": [
       "<matplotlib.legend.Legend at 0x7fb03f42b6d0>"
      ]
     },
     "execution_count": 13,
     "metadata": {},
     "output_type": "execute_result"
    },
    {
     "data": {
      "image/png": "[encoded data removed]",
      "text/plain": [
       "<Figure size 432x288 with 1 Axes>"
      ]
     },
     "metadata": {
      "needs_background": "light"
     },
     "output_type": "display_data"
    }
   ],
   "source": [
    "\n",
    "plt.hist(flatten(k_list[1]), label='pca', density=True, bins=10)\n",
    "plt.hist(flatten(k_list[0]), label='ae', alpha=0.8, density=True, bins=10)\n",
    "plt.xlabel('Counts of assets per cluster')\n",
    "plt.title('Distribution of Cluster Sizes')\n",
    "plt.legend()"
   ]
  }
 ],
 "metadata": {
  "kernelspec": {
   "display_name": "Python 3",
   "language": "python",
   "name": "python3"
  },
  "language_info": {
   "codemirror_mode": {
    "name": "ipython",
    "version": 3
   },
   "file_extension": ".py",
   "mimetype": "text/x-python",
   "name": "python",
   "nbconvert_exporter": "python",
   "pygments_lexer": "ipython3",
   "version": "3.8.0"
  }
 },
 "nbformat": 4,
 "nbformat_minor": 4
}
