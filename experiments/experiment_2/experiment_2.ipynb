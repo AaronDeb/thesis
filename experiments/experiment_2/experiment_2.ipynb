{
 "cells": [
  {
   "cell_type": "code",
   "execution_count": null,
   "metadata": {
    "executionInfo": {
     "elapsed": 29,
     "status": "ok",
     "timestamp": 1642661178100,
     "user": {
      "displayName": "Aaron Debrincat",
      "photoUrl": "https://lh3.googleusercontent.com/a/default-user=s64",
      "userId": "06157220713259326892"
     },
     "user_tz": -60
    },
    "id": "tslIPvW-Ctdb"
   },
   "outputs": [],
   "source": [
    "%load_ext autoreload\n",
    "%autoreload 2\n",
    "%reload_ext autoreload"
   ]
  },
  {
   "cell_type": "code",
   "execution_count": null,
   "metadata": {
    "executionInfo": {
     "elapsed": 4454,
     "status": "ok",
     "timestamp": 1642661182535,
     "user": {
      "displayName": "Aaron Debrincat",
      "photoUrl": "https://lh3.googleusercontent.com/a/default-user=s64",
      "userId": "06157220713259326892"
     },
     "user_tz": -60
    },
    "id": "wki7PGVECtkO"
   },
   "outputs": [],
   "source": [
    "import warnings\n",
    "warnings.filterwarnings(\"ignore\")\n",
    "\n",
    "import glob\n",
    "import shutil\n",
    "import itertools\n",
    "import os\n",
    "import sys\n",
    "\n",
    "import pickle\n",
    "\n",
    "import pandas as pd\n",
    "import numpy as np\n",
    "\n",
    "import seaborn as sns\n",
    "import matplotlib.pyplot as plt\n",
    "\n",
    "import random\n",
    "\n",
    "# from scipy.signal._signaltools import _centered\n",
    "# sys.modules['scipy.signal.signaltools._centered'] = _centered\n",
    "\n",
    "from scipy.stats import norm\n",
    "from scipy.cluster.hierarchy import dendrogram, linkage, fcluster\n",
    "\n",
    "import sklearn.metrics\n",
    "from sklearn.manifold import TSNE\n",
    "from sklearn.cluster import KMeans, AgglomerativeClustering, SpectralClustering, OPTICS\n",
    "from sklearn.decomposition import PCA\n",
    "from sklearn.preprocessing import StandardScaler, MinMaxScaler, OrdinalEncoder\n",
    "from sklearn.utils import resample, shuffle\n",
    "\n",
    "import six\n",
    "import sys\n",
    "sys.modules['sklearn.externals.six'] = six\n",
    "\n",
    "import sklearn.neighbors._base\n",
    "sys.modules['sklearn.neighbors.base'] = sklearn.neighbors._base\n",
    "\n",
    "from sklearn.utils import _safe_indexing\n",
    "sys.modules['sklearn.utils.safe_indexing'] = _safe_indexing\n",
    "\n",
    "from pairs_trading_package.clustering import *\n",
    "\n",
    "import pairs_trading_package as lfl\n",
    "from pairs_trading_package.utils import flatten\n",
    "\n",
    "random_state=42"
   ]
  },
  {
   "cell_type": "code",
   "execution_count": null,
   "metadata": {
    "executionInfo": {
     "elapsed": 15,
     "status": "ok",
     "timestamp": 1642661182538,
     "user": {
      "displayName": "Aaron Debrincat",
      "photoUrl": "https://lh3.googleusercontent.com/a/default-user=s64",
      "userId": "06157220713259326892"
     },
     "user_tz": -60
    },
    "id": "NgFa9yFk5Sxk"
   },
   "outputs": [],
   "source": [
    "import pylab as plb\n",
    "plb.rcParams['font.size'] = 12\n",
    "plb.rcParams[\"savefig.bbox\"] = 'tight'"
   ]
  },
  {
   "cell_type": "code",
   "execution_count": null,
   "metadata": {
    "id": "igMlgrfWEZ5L"
   },
   "outputs": [],
   "source": [
    "# # import glob; glob.glob('./**.csv' )\n",
    "\n",
    "# meta_data_files = ['./e22caf5b3a425f3a6192dc01c6d68fed.csv']\n",
    "\n",
    "# working_df = pd.DataFrame()\n",
    "\n",
    "# for fl in meta_data_files:\n",
    "#     temp_df = pd.read_csv(fl)\n",
    "#     working_df = pd.concat([working_df, temp_df])\n",
    "\n",
    "# working_df.drop(['Unnamed: 0'], axis=1, inplace=True)\n",
    "# working_df.reset_index(drop=True, inplace=True)\n",
    "# working_df.drop_duplicates(inplace=True)\n",
    "# working_df.replace([np.inf, -np.inf], np.nan, inplace=True)\n",
    "# # working_df.dropna(inplace=True)"
   ]
  },
  {
   "cell_type": "code",
   "execution_count": null,
   "metadata": {
    "id": "3Qphl1JMM8oF"
   },
   "outputs": [],
   "source": [
    "# working_df.to_csv('./working_df_final.csv')"
   ]
  },
  {
   "cell_type": "code",
   "execution_count": null,
   "metadata": {
    "id": "1oUAaqHooVXy"
   },
   "outputs": [],
   "source": [
    "# regime_time_columns = ['train_start', 'train_end', 'test_start', 'test_end', 'validation_date']\n",
    "\n",
    "# regime_df = pd.read_csv('./market_features.csv')\n",
    "# regime_df.drop(['Unnamed: 0'], axis=1, inplace=True)\n",
    "\n",
    "# working_df.loc[:, list(regime_df.columns[~regime_df.columns.isin(regime_time_columns)])] = 0.0\n",
    "\n",
    "# for regime_row in regime_df.iterrows():\n",
    "#     selected_rows = working_df.loc[pd.to_datetime(working_df['train_period_start']) == pd.to_datetime(regime_row[1]['train_start'])].index \n",
    "\n",
    "#     if len(selected_rows) != 0:\n",
    "#         for sel_attr in list(regime_df.columns[~regime_df.columns.isin(regime_time_columns)]):\n",
    "#             for sel_idx in selected_rows:\n",
    "#                 working_df.at[sel_idx, sel_attr] = regime_df.loc[pd.to_datetime(regime_df['train_start']) == pd.to_datetime(regime_row[1]['train_start']), sel_attr].values\n"
   ]
  },
  {
   "cell_type": "code",
   "execution_count": null,
   "metadata": {
    "id": "iZ2FJpLI12ID"
   },
   "outputs": [],
   "source": [
    "# working_df.to_csv('./meta_e22caf5b3a425f3a6192dc01c6d68fed.csv')"
   ]
  },
  {
   "cell_type": "code",
   "execution_count": null,
   "metadata": {
    "executionInfo": {
     "elapsed": 2139,
     "status": "ok",
     "timestamp": 1642661188819,
     "user": {
      "displayName": "Aaron Debrincat",
      "photoUrl": "https://lh3.googleusercontent.com/a/default-user=s64",
      "userId": "06157220713259326892"
     },
     "user_tz": -60
    },
    "id": "8ENQaOnonH7g"
   },
   "outputs": [],
   "source": [
    "working_df = pd.read_csv('./meta_e22caf5b3a425f3a6192dc01c6d68fed.csv')\n",
    "\n",
    "working_df.drop(['Unnamed: 0'], axis=1, inplace=True)"
   ]
  },
  {
   "cell_type": "code",
   "execution_count": null,
   "metadata": {
    "executionInfo": {
     "elapsed": 18,
     "status": "ok",
     "timestamp": 1642661188822,
     "user": {
      "displayName": "Aaron Debrincat",
      "photoUrl": "https://lh3.googleusercontent.com/a/default-user=s64",
      "userId": "06157220713259326892"
     },
     "user_tz": -60
    },
    "id": "xsnPLwK3Lpwi"
   },
   "outputs": [],
   "source": [
    "columns_to_ignore = ['avg_total_roi_insample', 'pvalue_threshold', 'seed',\n",
    "                     'hurst_threshold', #'distance_measure',\n",
    "                     'min_zero_crossings', 'qvalue_threshold',\n",
    "                     'multiple_hypothesis_correction_method', 'explained_variance',\n",
    "                     'n_clusters', 'n_principal_components',\n",
    "                     \n",
    "                     'portfolio_returns_saved_file_insample', 'spreads_saved_file_insample',\n",
    "                     'portfolio_returns_saved_file_oosample', 'spreads_saved_file_oosample',\n",
    "                     'dimensionality_reduction_method', 'no_found_pairs_from_clustering',\n",
    "                    \n",
    "                     'count_coint_pvals_dist', 'mean_coint_pvals_dist', 'std_coint_pvals_dist', \n",
    "                     'min_coint_pvals_dist', '25%_coint_pvals_dist', '50%_coint_pvals_dist',\n",
    "                     '75%_coint_pvals_dist', 'max_coint_pvals_dist',\n",
    "                    \n",
    "                     'clust_algo']\n",
    "                     \n",
    "time_period_columns = ['train_period_start',\t'train_period_end',\t'test_period_start',\n",
    "                       'test_period_end', 'validation_period']\n",
    "\n",
    "oos_columns = ['n_pairs_oosample', 'annual_sharpe_ratio_iid_oosample', 'auto_corr_oosample', \n",
    "    'daily_sharpe_ratio_oosample', 'portfolio_vol_oosample', 'avg_total_roi_oosample', 'avg_annual_roi_oosample',\n",
    "    'total_trades_oosample', 'positive_trades_oosample', 'negative_trades_oosample', 'pct_positive_trades_per_pair_oosample',\n",
    "    'pct_pairs_with_positive_results_oosample', 'max_dd_oosample', 'max_dd_duration_oosample', 'total_dd_duration_oosample', \n",
    "    'avg_half_life_oosample', 'avg_hurst_exponent_oosample', 'count_positive_trades_dist_oosample', 'mean_positive_trades_dist_oosample', \n",
    "    'std_positive_trades_dist_oosample', 'min_positive_trades_dist_oosample', '25%_positive_trades_dist_oosample', \n",
    "    '50%_positive_trades_dist_oosample', '75%_positive_trades_dist_oosample', 'max_positive_trades_dist_oosample', \n",
    "    'count_negative_trades_dist_oosample', 'mean_negative_trades_dist_oosample', 'std_negative_trades_dist_oosample',\n",
    "    'min_negative_trades_dist_oosample', '25%_negative_trades_dist_oosample', '50%_negative_trades_dist_oosample', \n",
    "    '75%_negative_trades_dist_oosample', 'max_negative_trades_dist_oosample', 'count_pairs_sharpe_dist_oosample', \n",
    "    'mean_pairs_sharpe_dist_oosample', 'std_pairs_sharpe_dist_oosample', 'min_pairs_sharpe_dist_oosample', '25%_pairs_sharpe_dist_oosample', \n",
    "    '50%_pairs_sharpe_dist_oosample', '75%_pairs_sharpe_dist_oosample', 'max_pairs_sharpe_dist_oosample']\n",
    "\n",
    "is_columns = [\n",
    "    'annual_sharpe_ratio_iid_insample', 'daily_sharpe_ratio_insample', 'avg_total_roi_insample', \n",
    "              'avg_annual_roi_insample', 'max_dd_insample', 'max_dd_duration_insample', 'total_dd_duration_insample',\n",
    "              'auto_corr_insample', 'n_pairs_insample', 'portfolio_vol_insample', \n",
    "    'total_trades_insample', 'positive_trades_insample',\n",
    "    'negative_trades_insample', \n",
    "              'pct_positive_trades_per_pair_insample', 'pct_pairs_with_positive_results_insample', \n",
    "     'avg_half_life_insample', \n",
    "    'avg_hurst_exponent_insample', \n",
    "              'count_positive_trades_dist_insample', 'mean_positive_trades_dist_insample', \n",
    "    'std_positive_trades_dist_insample', 'min_positive_trades_dist_insample', '25%_positive_trades_dist_insample', \n",
    "    '50%_positive_trades_dist_insample', '75%_positive_trades_dist_insample', 'max_positive_trades_dist_insample', \n",
    "    'count_negative_trades_dist_insample', 'mean_negative_trades_dist_insample', 'std_negative_trades_dist_insample', \n",
    "    'min_negative_trades_dist_insample', '25%_negative_trades_dist_insample', '50%_negative_trades_dist_insample', \n",
    "    '75%_negative_trades_dist_insample', 'max_negative_trades_dist_insample', 'count_pairs_sharpe_dist_insample', \n",
    "    'mean_pairs_sharpe_dist_insample', 'std_pairs_sharpe_dist_insample', 'min_pairs_sharpe_dist_insample', \n",
    "    '25%_pairs_sharpe_dist_insample', '50%_pairs_sharpe_dist_insample', '75%_pairs_sharpe_dist_insample', \n",
    "    'max_pairs_sharpe_dist_insample'\n",
    "             ]\n",
    "\n",
    "\n",
    "\n",
    "corr_cull_columns = [# 'corr_coeffs_1%', 'corr_coeffs_10%',\n",
    "#        'corr_coeffs_10-1', 'corr_coeffs_25%', 'corr_coeffs_50%',\n",
    "#        'corr_coeffs_75%', 'corr_coeffs_90%', 'corr_coeffs_99%',\n",
    "#        'corr_coeffs_99-90', 'corr_coeffs_max', 'corr_coeffs_mean',\n",
    "#        'corr_coeffs_min', 'corr_coeffs_std', 'corr_condition_number',\n",
    "#        'corr_coph_average', 'corr_coph_complete', 'corr_coph_single',\n",
    "       'corr_determinant',\n",
    "#     'corr_eigen_gini', 'corr_varex_30-5',\n",
    "#        'corr_varex_5-1', 'corr_varex_eig1', 'corr_varex_eig_MP',\n",
    "#        'corr_varex_eig_top30', 'corr_varex_eig_top5',\n",
    "       'mst_average_node_connectivity',\n",
    "#        'mst_avg_shortest',\n",
    "#        'mst_closeness_centrality_25%', 'mst_closeness_centrality_50%',\n",
    "#        'mst_closeness_centrality_75%', 'mst_closeness_centrality_max',\n",
    "#        'mst_closeness_centrality_mean', 'mst_closeness_centrality_min',\n",
    "#        'mst_closeness_centrality_std', 'mst_edges',\n",
    "#        'mst_normalised_tree_length', 'pf_25%', 'pf_50%', 'pf_75%', 'pf_max',\n",
    "#        'pf_mean', 'pf_min', 'pf_std', \n",
    "#        'acf_mean', 'acf_std', 'acf_min', 'acf_25%', 'acf_50%', 'acf_75%',\n",
    "       'acf_max', \n",
    "#         'returns_mean', 'returns_std', 'returns_min', 'returns_25%',\n",
    "#        'returns_50%', 'returns_75%', 'returns_max', 'sharpe_benchmark',\n",
    "       'is_normal'\n",
    "]\n",
    "\n",
    "categorical_columns = ['distance_measure'] #'clust_algo', \n"
   ]
  },
  {
   "cell_type": "code",
   "execution_count": null,
   "metadata": {
    "colab": {
     "base_uri": "https://localhost:8080/"
    },
    "executionInfo": {
     "elapsed": 293,
     "status": "ok",
     "timestamp": 1642661193288,
     "user": {
      "displayName": "Aaron Debrincat",
      "photoUrl": "https://lh3.googleusercontent.com/a/default-user=s64",
      "userId": "06157220713259326892"
     },
     "user_tz": -60
    },
    "id": "3ECut2lsULZn",
    "outputId": "962afa32-b6db-4a6e-c067-803eca85e4fb"
   },
   "outputs": [],
   "source": [
    "algo_specific_df = working_df.copy()[working_df['clust_algo'] == 'spectral']\n",
    "algo_specific_df['annual_sharpe_ratio_iid_oosample'].replace([np.inf, -np.inf, np.nan], 0, inplace=True)\n",
    "\n",
    "from sklearn.preprocessing import LabelEncoder \n",
    "\n",
    "le = LabelEncoder()\n",
    "le.fit(algo_specific_df['distance_measure'])\n",
    "algo_specific_df['distance_measure'] = le.transform(algo_specific_df['distance_measure'])\n"
   ]
  },
  {
   "cell_type": "code",
   "execution_count": null,
   "metadata": {
    "executionInfo": {
     "elapsed": 8,
     "status": "ok",
     "timestamp": 1642661194620,
     "user": {
      "displayName": "Aaron Debrincat",
      "photoUrl": "https://lh3.googleusercontent.com/a/default-user=s64",
      "userId": "06157220713259326892"
     },
     "user_tz": -60
    },
    "id": "q59-GzxBKch7"
   },
   "outputs": [],
   "source": [
    "from sklearn.preprocessing import QuantileTransformer\n",
    "\n",
    "sharpe_target_label = pd.Series(np.zeros(len(algo_specific_df['annual_sharpe_ratio_iid_oosample'])))\n",
    "\n",
    "bigger_than_zero_values = algo_specific_df['annual_sharpe_ratio_iid_oosample'][algo_specific_df['annual_sharpe_ratio_iid_oosample'] > 0]\n",
    "bigger_than_zero_index = np.where(algo_specific_df['annual_sharpe_ratio_iid_oosample'] > 0)[0]\n",
    "\n",
    "std_scaler = QuantileTransformer(random_state=random_state)\n",
    "std_scaler.fit(bigger_than_zero_values.values.reshape(-1, 1))\n",
    "\n",
    "scaled_pair_counts = std_scaler.transform(bigger_than_zero_values.values.reshape(-1, 1))\n",
    "\n",
    "from sklearn.preprocessing import KBinsDiscretizer\n",
    "\n",
    "est = KBinsDiscretizer(n_bins=3, encode='ordinal', strategy='quantile')\n",
    "est.fit(scaled_pair_counts) \n",
    "\n",
    "sharpe_target_label.iloc[bigger_than_zero_index] = est.transform(scaled_pair_counts).reshape(-1)+1 \n",
    "\n",
    "sharpe_target_label.value_counts()"
   ]
  },
  {
   "cell_type": "code",
   "execution_count": null,
   "metadata": {},
   "outputs": [],
   "source": [
    "\n",
    "from imblearn.under_sampling import RandomUnderSampler \n",
    "\n",
    "rus = RandomUnderSampler(random_state=random_state)\n",
    "algo_specific_df, _ = rus.fit_resample(algo_specific_df, sharpe_target_label) #algo_specific_df[low_val_mask], balanced_sampling_target[low_val_mask])\n",
    "\n",
    "# algo_specific_df"
   ]
  },
  {
   "cell_type": "code",
   "execution_count": null,
   "metadata": {},
   "outputs": [],
   "source": [
    "# How does clustering algorithm perform?\n",
    "feature_df = algo_specific_df.loc[:, ~algo_specific_df.columns.isin(columns_to_ignore + time_period_columns + oos_columns + is_columns + corr_cull_columns)].copy()"
   ]
  },
  {
   "cell_type": "code",
   "execution_count": null,
   "metadata": {
    "colab": {
     "base_uri": "https://localhost:8080/"
    },
    "executionInfo": {
     "elapsed": 382,
     "status": "ok",
     "timestamp": 1642661196287,
     "user": {
      "displayName": "Aaron Debrincat",
      "photoUrl": "https://lh3.googleusercontent.com/a/default-user=s64",
      "userId": "06157220713259326892"
     },
     "user_tz": -60
    },
    "id": "REj4rL27U_Eb",
    "outputId": "560f4681-24bf-4a4b-c1c8-24c241654cc8"
   },
   "outputs": [],
   "source": [
    "from sklearn.preprocessing import QuantileTransformer\n",
    "\n",
    "std_scaler = QuantileTransformer(random_state=random_state)\n",
    "std_scaler.fit(algo_specific_df['annual_sharpe_ratio_iid_oosample'].values.reshape(-1, 1))\n",
    "\n",
    "target_label = pd.Series(std_scaler.transform(algo_specific_df['annual_sharpe_ratio_iid_oosample'].values.reshape(-1, 1)).reshape(-1))\n",
    "\n",
    "target_label"
   ]
  },
  {
   "cell_type": "code",
   "execution_count": null,
   "metadata": {},
   "outputs": [],
   "source": [
    "# from imblearn.under_sampling import RandomUnderSampler \n",
    "\n",
    "# rus = RandomUnderSampler(random_state=42)\n",
    "resampled_feature_df, resampled_target_label = feature_df, target_label #rus.fit_resample(feature_df, target_label)\n"
   ]
  },
  {
   "cell_type": "code",
   "execution_count": null,
   "metadata": {
    "executionInfo": {
     "elapsed": 585,
     "status": "ok",
     "timestamp": 1642661199225,
     "user": {
      "displayName": "Aaron Debrincat",
      "photoUrl": "https://lh3.googleusercontent.com/a/default-user=s64",
      "userId": "06157220713259326892"
     },
     "user_tz": -60
    },
    "id": "4WVl5t2UYTbM"
   },
   "outputs": [],
   "source": [
    "from sklearn.model_selection import train_test_split\n",
    "\n",
    "xtrain, xvalidate, ytrain, yvalidate = train_test_split(resampled_feature_df, resampled_target_label, test_size=0.3, random_state=random_state)\n"
   ]
  },
  {
   "cell_type": "code",
   "execution_count": null,
   "metadata": {
    "colab": {
     "base_uri": "https://localhost:8080/"
    },
    "executionInfo": {
     "elapsed": 299,
     "status": "ok",
     "timestamp": 1642661200693,
     "user": {
      "displayName": "Aaron Debrincat",
      "photoUrl": "https://lh3.googleusercontent.com/a/default-user=s64",
      "userId": "06157220713259326892"
     },
     "user_tz": -60
    },
    "id": "UTQOVVdSy-0F",
    "outputId": "98cb4daa-12d0-4a28-c6bb-cd4440ab7058"
   },
   "outputs": [],
   "source": [
    "# ytrain.value_counts(), yvalidate.value_counts()"
   ]
  },
  {
   "cell_type": "code",
   "execution_count": null,
   "metadata": {
    "executionInfo": {
     "elapsed": 17,
     "status": "ok",
     "timestamp": 1642661201744,
     "user": {
      "displayName": "Aaron Debrincat",
      "photoUrl": "https://lh3.googleusercontent.com/a/default-user=s64",
      "userId": "06157220713259326892"
     },
     "user_tz": -60
    },
    "id": "qQPXZgCbZxDO"
   },
   "outputs": [],
   "source": [
    "from sklearn.preprocessing import StandardScaler, QuantileTransformer\n",
    "\n",
    "xtrain_without_categorical = xtrain.loc[:, ~xtrain.columns.isin(categorical_columns)]\n",
    "xtrain_without_categorical.replace([np.inf, -np.inf, np.nan], 0, inplace=True)\n",
    "\n",
    "xvalidate_without_categorical = xvalidate.loc[:, ~xvalidate.columns.isin(categorical_columns)]\n",
    "xvalidate_without_categorical.replace([np.inf, -np.inf, np.nan], 0, inplace=True)\n",
    "\n",
    "scaler = StandardScaler()\n",
    "scaler.fit(xtrain_without_categorical)\n",
    "\n",
    "xtrain_scaled = pd.DataFrame(data=scaler.transform(xtrain_without_categorical), columns=xtrain_without_categorical.columns)\n",
    "xvalidate_scaled = pd.DataFrame(data=scaler.transform(xvalidate_without_categorical), columns=xvalidate_without_categorical.columns)\n",
    "\n",
    "xtrain_scaled.loc[:, categorical_columns] = xtrain.loc[:, categorical_columns].values\n",
    "xvalidate_scaled.loc[:, categorical_columns] = xvalidate.loc[:, categorical_columns].values\n"
   ]
  },
  {
   "cell_type": "code",
   "execution_count": null,
   "metadata": {
    "colab": {
     "base_uri": "https://localhost:8080/",
     "height": 830
    },
    "executionInfo": {
     "elapsed": 1663,
     "status": "ok",
     "timestamp": 1642661204746,
     "user": {
      "displayName": "Aaron Debrincat",
      "photoUrl": "https://lh3.googleusercontent.com/a/default-user=s64",
      "userId": "06157220713259326892"
     },
     "user_tz": -60
    },
    "id": "ttoarb6DXD6Q",
    "outputId": "4c7497e3-2d95-482f-9c24-aab81ec01ce6"
   },
   "outputs": [],
   "source": [
    "plt.figure(figsize=(18,10))\n",
    "ax = sns.boxplot(data=xtrain_scaled)\n",
    "plt.xticks(rotation=90);\n",
    "plt.title(\"Feature Descriptions\");"
   ]
  },
  {
   "cell_type": "code",
   "execution_count": null,
   "metadata": {
    "executionInfo": {
     "elapsed": 7048,
     "status": "ok",
     "timestamp": 1642661225059,
     "user": {
      "displayName": "Aaron Debrincat",
      "photoUrl": "https://lh3.googleusercontent.com/a/default-user=s64",
      "userId": "06157220713259326892"
     },
     "user_tz": -60
    },
    "id": "kk2SBgVfbjEK"
   },
   "outputs": [],
   "source": [
    "from sklearn.preprocessing import OneHotEncoder\n",
    "\n",
    "conc_feature_df = algo_specific_df.loc[:, ~algo_specific_df.columns.isin(columns_to_ignore + oos_columns + is_columns + corr_cull_columns)].iloc[ytrain.index].copy()\n",
    "\n",
    "ind_list = []\n",
    "\n",
    "full_date_series = pd.date_range(start=\"2009-01-01\",end=\"2018-01-01\", freq='M')\n",
    "\n",
    "for feat_conc in conc_feature_df.iterrows():\n",
    "    ind_list.append(full_date_series.isin(pd.date_range(start=feat_conc[1]['train_period_start'],end=feat_conc[1]['train_period_end'], freq='M')).astype(int))\n",
    "\n",
    "crude_ind_df = pd.DataFrame(ind_list)#.iloc[chosen_sample_indices, :]\n",
    "\n",
    "ind_mat = crude_ind_df.values"
   ]
  },
  {
   "cell_type": "code",
   "execution_count": null,
   "metadata": {
    "colab": {
     "base_uri": "https://localhost:8080/"
    },
    "executionInfo": {
     "elapsed": 255,
     "status": "ok",
     "timestamp": 1642661243225,
     "user": {
      "displayName": "Aaron Debrincat",
      "photoUrl": "https://lh3.googleusercontent.com/a/default-user=s64",
      "userId": "06157220713259326892"
     },
     "user_tz": -60
    },
    "id": "RF5IzfJE8H5v",
    "outputId": "f4ff931c-006e-4e05-ac10-2b5aee75cb94"
   },
   "outputs": [],
   "source": [
    "periphery_features = xtrain_scaled.columns"
   ]
  },
  {
   "cell_type": "code",
   "execution_count": null,
   "metadata": {
    "colab": {
     "base_uri": "https://localhost:8080/"
    },
    "executionInfo": {
     "elapsed": 7489,
     "status": "ok",
     "timestamp": 1642668535528,
     "user": {
      "displayName": "Aaron Debrincat",
      "photoUrl": "https://lh3.googleusercontent.com/a/default-user=s64",
      "userId": "06157220713259326892"
     },
     "user_tz": -60
    },
    "id": "Xo-ON8Z4WshW",
    "outputId": "b438e98c-518d-463a-de47-90872641b041"
   },
   "outputs": [],
   "source": [
    "from sklearn.tree import DecisionTreeClassifier, DecisionTreeRegressor\n",
    "from sklearn.utils import class_weight\n",
    "\n",
    "from sklearn.ensemble import (RandomForestClassifier, BaggingClassifier, BaggingRegressor,\n",
    "                              GradientBoostingClassifier, AdaBoostClassifier, RandomForestRegressor,\n",
    "                              ExtraTreesClassifier)\n",
    "from sklearn.metrics import ConfusionMatrixDisplay, f1_score, confusion_matrix\n",
    "\n",
    "from sklearn.metrics import mean_squared_error\n",
    "\n",
    "\n",
    "clf_est_params = {\n",
    "    'criterion': 'mse',\n",
    "    'n_estimators': 100, \n",
    "    'max_depth': 7,\n",
    "    'bootstrap': True, \n",
    "    'max_features': 1,\n",
    "    'max_samples': get_ind_mat_average_uniqueness(ind_mat),     \n",
    "    'min_weight_fraction_leaf': 0.05,\n",
    "    'oob_score':True,\n",
    "    'random_state': random_state\n",
    "}\n",
    "\n",
    "# Use tools\n",
    "clf = RandomForestRegressor()\n",
    "clf.set_params(**clf_est_params)\n",
    "\n",
    "# periphery_features = periphery_features[fdr_obj.get_support()]\n",
    "clf.fit(xtrain_scaled.loc[:, periphery_features], ytrain)\n",
    "\n",
    "print('MSE on train set:', mean_squared_error(clf.predict(xtrain_scaled.loc[:, periphery_features]), ytrain))\n",
    "print('MSE on test set:', mean_squared_error(clf.predict(xvalidate_scaled.loc[:, periphery_features]), yvalidate))\n"
   ]
  },
  {
   "cell_type": "code",
   "execution_count": null,
   "metadata": {
    "id": "dDtiKshEqgGV"
   },
   "outputs": [],
   "source": [
    "import shap\n",
    "shap.initjs()\n",
    "\n",
    "explainer = shap.TreeExplainer(clf)\n",
    "shap_values = explainer.shap_values(xtrain_scaled.loc[:, periphery_features])#, approximate=True)\n",
    "\n",
    "shap.summary_plot(shap_values, xtrain_scaled.loc[:, periphery_features])\n"
   ]
  },
  {
   "cell_type": "code",
   "execution_count": null,
   "metadata": {},
   "outputs": [],
   "source": [
    "# inds = shap.approximate_interactions(\"mst_avg_shortest\", shap_values, xtrain_scaled.loc[:, periphery_features])\n",
    "for i in range(10): #[i] # interaction_index=inds[i],\n",
    "    shap.dependence_plot('rank(' + str(i) + ')', shap_values, xtrain_scaled.loc[:, periphery_features], x_jitter=1) #rank(0)"
   ]
  },
  {
   "cell_type": "code",
   "execution_count": null,
   "metadata": {},
   "outputs": [],
   "source": []
  },
  {
   "cell_type": "code",
   "execution_count": null,
   "metadata": {},
   "outputs": [],
   "source": [
    "shap.dependence_plot('infomax_hofs', shap_values, xtrain_scaled.loc[:, periphery_features], interaction_index='infomax_hofk');\n",
    "shap.dependence_plot('infomax_hofk', shap_values, xtrain_scaled.loc[:, periphery_features], interaction_index='infomax_hofs')"
   ]
  }
 ],
 "metadata": {
  "colab": {
   "authorship_tag": "ABX9TyOQM112hS9hY0JjCuUOK87M",
   "collapsed_sections": [],
   "name": "experiment_2.ipynb",
   "provenance": [
    {
     "file_id": "1fSWNCSstp946l7biqcJjB5C8W1_L6CzU",
     "timestamp": 1640419373442
    }
   ]
  },
  "kernelspec": {
   "display_name": "Python 3",
   "language": "python",
   "name": "python3"
  },
  "language_info": {
   "codemirror_mode": {
    "name": "ipython",
    "version": 3
   },
   "file_extension": ".py",
   "mimetype": "text/x-python",
   "name": "python",
   "nbconvert_exporter": "python",
   "pygments_lexer": "ipython3",
   "version": "3.8.0"
  }
 },
 "nbformat": 4,
 "nbformat_minor": 4
}
